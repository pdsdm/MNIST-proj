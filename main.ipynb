{
 "cells": [
  {
   "cell_type": "markdown",
   "metadata": {},
   "source": [
    "# LIVE MNIST \n",
    "\n",
    "The LIVE MNIST project aims to create an interactive and dynamic visualization of the training, validation, and testing process for the well-known MNIST dataset. Users will be able to configure the number of layers and nodes in a Convolutional Neural Network (CNN) and observe a live representation of the model’s structure and learning progress directly on a web interface. Additionally, the project will feature an interactive drawing tool where users can sketch digits in real-time and instantly see the model’s predicted probabilities for each number, making the experience both educational and engaging."
   ]
  },
  {
   "cell_type": "markdown",
   "metadata": {},
   "source": [
    "1) MODEL rep"
   ]
  },
  {
   "cell_type": "code",
   "execution_count": 137,
   "metadata": {},
   "outputs": [
    {
     "name": "stdout",
     "output_type": "stream",
     "text": [
      "Defaulting to user installation because normal site-packages is not writeable\n",
      "Requirement already satisfied: matplotlib in /Users/pepmoyanofont/Library/Python/3.9/lib/python/site-packages (3.9.4)\n",
      "Requirement already satisfied: contourpy>=1.0.1 in /Users/pepmoyanofont/Library/Python/3.9/lib/python/site-packages (from matplotlib) (1.3.0)\n",
      "Requirement already satisfied: cycler>=0.10 in /Users/pepmoyanofont/Library/Python/3.9/lib/python/site-packages (from matplotlib) (0.12.1)\n",
      "Requirement already satisfied: fonttools>=4.22.0 in /Users/pepmoyanofont/Library/Python/3.9/lib/python/site-packages (from matplotlib) (4.55.8)\n",
      "Requirement already satisfied: kiwisolver>=1.3.1 in /Users/pepmoyanofont/Library/Python/3.9/lib/python/site-packages (from matplotlib) (1.4.7)\n",
      "Requirement already satisfied: numpy>=1.23 in /Users/pepmoyanofont/Library/Python/3.9/lib/python/site-packages (from matplotlib) (2.0.2)\n",
      "Requirement already satisfied: packaging>=20.0 in /Users/pepmoyanofont/Library/Python/3.9/lib/python/site-packages (from matplotlib) (24.2)\n",
      "Requirement already satisfied: pillow>=8 in /Users/pepmoyanofont/Library/Python/3.9/lib/python/site-packages (from matplotlib) (10.4.0)\n",
      "Requirement already satisfied: pyparsing>=2.3.1 in /Users/pepmoyanofont/Library/Python/3.9/lib/python/site-packages (from matplotlib) (3.2.1)\n",
      "Requirement already satisfied: python-dateutil>=2.7 in /Users/pepmoyanofont/Library/Python/3.9/lib/python/site-packages (from matplotlib) (2.9.0.post0)\n",
      "Requirement already satisfied: importlib-resources>=3.2.0 in /Users/pepmoyanofont/Library/Python/3.9/lib/python/site-packages (from matplotlib) (6.5.2)\n",
      "Requirement already satisfied: zipp>=3.1.0 in /Users/pepmoyanofont/Library/Python/3.9/lib/python/site-packages (from importlib-resources>=3.2.0->matplotlib) (3.21.0)\n",
      "Requirement already satisfied: six>=1.5 in /Library/Developer/CommandLineTools/Library/Frameworks/Python3.framework/Versions/3.9/lib/python3.9/site-packages (from python-dateutil>=2.7->matplotlib) (1.15.0)\n",
      "\n",
      "\u001b[1m[\u001b[0m\u001b[34;49mnotice\u001b[0m\u001b[1;39;49m]\u001b[0m\u001b[39;49m A new release of pip is available: \u001b[0m\u001b[31;49m24.3.1\u001b[0m\u001b[39;49m -> \u001b[0m\u001b[32;49m25.0\u001b[0m\n",
      "\u001b[1m[\u001b[0m\u001b[34;49mnotice\u001b[0m\u001b[1;39;49m]\u001b[0m\u001b[39;49m To update, run: \u001b[0m\u001b[32;49mpython3 -m pip install --upgrade pip\u001b[0m\n",
      "Note: you may need to restart the kernel to use updated packages.\n"
     ]
    }
   ],
   "source": [
    "pip install matplotlib"
   ]
  },
  {
   "cell_type": "code",
   "execution_count": 138,
   "metadata": {},
   "outputs": [
    {
     "name": "stdout",
     "output_type": "stream",
     "text": [
      "Defaulting to user installation because normal site-packages is not writeable\n",
      "Requirement already satisfied: pandas in /Users/pepmoyanofont/Library/Python/3.9/lib/python/site-packages (2.2.3)\n",
      "Requirement already satisfied: numpy>=1.22.4 in /Users/pepmoyanofont/Library/Python/3.9/lib/python/site-packages (from pandas) (2.0.2)\n",
      "Requirement already satisfied: python-dateutil>=2.8.2 in /Users/pepmoyanofont/Library/Python/3.9/lib/python/site-packages (from pandas) (2.9.0.post0)\n",
      "Requirement already satisfied: pytz>=2020.1 in /Users/pepmoyanofont/Library/Python/3.9/lib/python/site-packages (from pandas) (2025.1)\n",
      "Requirement already satisfied: tzdata>=2022.7 in /Users/pepmoyanofont/Library/Python/3.9/lib/python/site-packages (from pandas) (2025.1)\n",
      "Requirement already satisfied: six>=1.5 in /Library/Developer/CommandLineTools/Library/Frameworks/Python3.framework/Versions/3.9/lib/python3.9/site-packages (from python-dateutil>=2.8.2->pandas) (1.15.0)\n",
      "\n",
      "\u001b[1m[\u001b[0m\u001b[34;49mnotice\u001b[0m\u001b[1;39;49m]\u001b[0m\u001b[39;49m A new release of pip is available: \u001b[0m\u001b[31;49m24.3.1\u001b[0m\u001b[39;49m -> \u001b[0m\u001b[32;49m25.0\u001b[0m\n",
      "\u001b[1m[\u001b[0m\u001b[34;49mnotice\u001b[0m\u001b[1;39;49m]\u001b[0m\u001b[39;49m To update, run: \u001b[0m\u001b[32;49mpython3 -m pip install --upgrade pip\u001b[0m\n",
      "Note: you may need to restart the kernel to use updated packages.\n"
     ]
    }
   ],
   "source": [
    "pip install pandas"
   ]
  },
  {
   "cell_type": "markdown",
   "metadata": {},
   "source": [
    "Basic libraries"
   ]
  },
  {
   "cell_type": "code",
   "execution_count": 101,
   "metadata": {},
   "outputs": [],
   "source": [
    "import numpy as np\n",
    "import matplotlib.pyplot as plt\n",
    "import time\n",
    "import pandas as pd"
   ]
  },
  {
   "cell_type": "markdown",
   "metadata": {},
   "source": [
    "This are the directions of our training and testing data"
   ]
  },
  {
   "cell_type": "code",
   "execution_count": 102,
   "metadata": {},
   "outputs": [],
   "source": [
    "train_x = \"dataset/train-images.idx3-ubyte\"\n",
    "train_y = \"dataset/train-labels.idx1-ubyte\"\n",
    "test_x = \"dataset/t10k-images.idx3-ubyte\"\n",
    "test_y = \"dataset/t10k-labels.idx1-ubyte\"\n",
    "\n",
    "train_csv = \"./csv_files/train.csv\"\n",
    "test_csv = \"./csv_files/test.csv\""
   ]
  },
  {
   "cell_type": "markdown",
   "metadata": {},
   "source": [
    "We will convert the ubyte into csv. "
   ]
  },
  {
   "cell_type": "code",
   "execution_count": 103,
   "metadata": {},
   "outputs": [],
   "source": [
    "def convert (imgs, labels, outline, n):\n",
    "    imgf = open(imgs, 'rb') #this function opens the ubyte file.\n",
    "    labelf = open(labels, 'rb')\n",
    "    csvf = open(outline, 'w')\n",
    "\n",
    "    imgf.read(16) #Jumping few bytes due to metadata\n",
    "    labelf.read(8)\n",
    "    images = []\n",
    "\n",
    "    for i in range(n):\n",
    "        image = [ord(labelf.read(1))] #The reason is 1 is because you want to read just 1 byte. When readed, it automatically jumps to next byte.\n",
    "        for j in range(28*28):\n",
    "            image.append(ord(imgf.read(1))) #When appending single num, we added to the list we are in.\n",
    "        images.append(image)  #Finally adding the existing list to another one.\n",
    "    \n",
    "    for image in images:\n",
    "        csvf.write(\",\".join(str(plx) for plx in image)+ \"\\n\") #The conversion into csv file.\n",
    "\n",
    "    imgf.close()\n",
    "    labelf.close()\n",
    "    csvf.close()"
   ]
  },
  {
   "cell_type": "code",
   "execution_count": 104,
   "metadata": {},
   "outputs": [],
   "source": [
    "convert(train_x, train_y, train_csv, 60000) #generating the files\n",
    "convert(test_x, test_y, test_csv, 10000)"
   ]
  },
  {
   "cell_type": "code",
   "execution_count": 105,
   "metadata": {},
   "outputs": [
    {
     "name": "stdout",
     "output_type": "stream",
     "text": [
      "60000\n"
     ]
    }
   ],
   "source": [
    "train_file = open(train_csv, 'r')  \n",
    "train_list = train_file.readlines()\n",
    "train_file.close()\n",
    "print(len(train_list))\n",
    "num = 7"
   ]
  },
  {
   "cell_type": "code",
   "execution_count": 106,
   "metadata": {},
   "outputs": [
    {
     "data": {
      "text/plain": [
       "'3,0,0,0,0,0,0,0,0,0,0,0,0,0,0,0,0,0,0,0,0,0,0,0,0,0,0,0,0,0,0,0,0,0,0,0,0,0,0,0,0,0,0,0,0,0,0,0,0,0,0,0,0,0,0,0,0,0,0,0,0,0,0,0,0,0,0,0,0,0,0,0,0,0,0,0,0,0,0,0,0,0,0,0,0,0,0,0,0,0,0,0,0,0,0,0,0,0,0,0,0,0,0,0,0,0,0,0,0,0,0,0,0,0,0,0,0,0,0,0,0,0,0,0,0,0,0,0,0,0,0,0,0,0,0,0,0,0,0,0,0,0,0,0,0,0,0,0,0,0,0,0,38,43,105,255,253,253,253,253,253,174,6,0,0,0,0,0,0,0,0,0,0,0,0,0,0,0,43,139,224,226,252,253,252,252,252,252,252,252,158,14,0,0,0,0,0,0,0,0,0,0,0,0,0,0,178,252,252,252,252,253,252,252,252,252,252,252,252,59,0,0,0,0,0,0,0,0,0,0,0,0,0,0,109,252,252,230,132,133,132,132,189,252,252,252,252,59,0,0,0,0,0,0,0,0,0,0,0,0,0,0,4,29,29,24,0,0,0,0,14,226,252,252,172,7,0,0,0,0,0,0,0,0,0,0,0,0,0,0,0,0,0,0,0,0,0,0,85,243,252,252,144,0,0,0,0,0,0,0,0,0,0,0,0,0,0,0,0,0,0,0,0,0,0,88,189,252,252,252,14,0,0,0,0,0,0,0,0,0,0,0,0,0,0,0,0,0,0,0,0,91,212,247,252,252,252,204,9,0,0,0,0,0,0,0,0,0,0,0,0,0,0,0,32,125,193,193,193,253,252,252,252,238,102,28,0,0,0,0,0,0,0,0,0,0,0,0,0,0,0,45,222,252,252,252,252,253,252,252,252,177,0,0,0,0,0,0,0,0,0,0,0,0,0,0,0,0,0,45,223,253,253,253,253,255,253,253,253,253,74,0,0,0,0,0,0,0,0,0,0,0,0,0,0,0,0,0,31,123,52,44,44,44,44,143,252,252,74,0,0,0,0,0,0,0,0,0,0,0,0,0,0,0,0,0,0,0,0,0,0,0,0,15,252,252,74,0,0,0,0,0,0,0,0,0,0,0,0,0,0,0,0,0,0,0,0,0,0,0,0,86,252,252,74,0,0,0,0,0,0,0,0,0,0,0,0,0,0,5,75,9,0,0,0,0,0,0,98,242,252,252,74,0,0,0,0,0,0,0,0,0,0,0,0,0,61,183,252,29,0,0,0,0,18,92,239,252,252,243,65,0,0,0,0,0,0,0,0,0,0,0,0,0,208,252,252,147,134,134,134,134,203,253,252,252,188,83,0,0,0,0,0,0,0,0,0,0,0,0,0,0,208,252,252,252,252,252,252,252,252,253,230,153,8,0,0,0,0,0,0,0,0,0,0,0,0,0,0,0,49,157,252,252,252,252,252,217,207,146,45,0,0,0,0,0,0,0,0,0,0,0,0,0,0,0,0,0,0,7,103,235,252,172,103,24,0,0,0,0,0,0,0,0,0,0,0,0,0,0,0,0,0,0,0,0,0,0,0,0,0,0,0,0,0,0,0,0,0,0,0,0,0,0,0,0,0,0,0,0,0,0,0,0,0,0,0,0,0,0,0,0,0,0,0,0,0,0,0,0,0,0,0,0,0,0,0,0,0,0,0,0,0,0,0,0,0,0,0,0,0,0,0,0,0,0,0,0,0,0,0,0,0,0,0\\n'"
      ]
     },
     "execution_count": 106,
     "metadata": {},
     "output_type": "execute_result"
    }
   ],
   "source": [
    "train_list[num]"
   ]
  },
  {
   "cell_type": "code",
   "execution_count": 194,
   "metadata": {},
   "outputs": [],
   "source": [
    "class Representations:\n",
    "    def rep_imag(list = train_list, num=0):\n",
    "        values = list[num].split(\",\")\n",
    "        images_array = np.asarray(values[1:], dtype=float).reshape((28,28))\n",
    "        plt.imshow(images_array, cmap = \"Grays\", interpolation = \"None\")\n",
    "        plt.grid(True, \"major\")\n",
    "\n",
    "    def rep_matrix (list = train_list, num=0):\n",
    "        values = list[num].split(\",\")\n",
    "        images_array = np.asarray(values[1:], dtype=float).reshape((28,28))\n",
    "        image_matrix = images_array.astype(int)\n",
    "        print(pd.DataFrame(image_matrix).to_string(index=False, header=False))\n"
   ]
  },
  {
   "cell_type": "code",
   "execution_count": 195,
   "metadata": {},
   "outputs": [
    {
     "data": {
      "image/png": "[encoded data removed]",
      "text/plain": [
       "<Figure size 640x480 with 1 Axes>"
      ]
     },
     "metadata": {},
     "output_type": "display_data"
    }
   ],
   "source": [
    "Representations.rep_imag(train_list, num)"
   ]
  },
  {
   "cell_type": "code",
   "execution_count": 182,
   "metadata": {},
   "outputs": [
    {
     "name": "stdout",
     "output_type": "stream",
     "text": [
      "0 0 0 0 0   0   0   0   0   0   0   0   0   0   0   0   0   0   0   0   0   0  0 0 0 0 0 0\n",
      "0 0 0 0 0   0   0   0   0   0   0   0   0   0   0   0   0   0   0   0   0   0  0 0 0 0 0 0\n",
      "0 0 0 0 0   0   0   0   0   0   0   0   0   0   0   0   0   0   0   0   0   0  0 0 0 0 0 0\n",
      "0 0 0 0 0   0   0   0   0   0   0   0   0   0   0   0   0   0   0   0   0   0  0 0 0 0 0 0\n",
      "0 0 0 0 0   0   0   0   0   0   0   0   0   0   0   0   0   0   0   0   0   0  0 0 0 0 0 0\n",
      "0 0 0 0 0   0   0   0   0   0   0  38  43 105 255 253 253 253 253 253 174   6  0 0 0 0 0 0\n",
      "0 0 0 0 0   0   0   0   0  43 139 224 226 252 253 252 252 252 252 252 252 158 14 0 0 0 0 0\n",
      "0 0 0 0 0   0   0   0   0 178 252 252 252 252 253 252 252 252 252 252 252 252 59 0 0 0 0 0\n",
      "0 0 0 0 0   0   0   0   0 109 252 252 230 132 133 132 132 189 252 252 252 252 59 0 0 0 0 0\n",
      "0 0 0 0 0   0   0   0   0   4  29  29  24   0   0   0   0  14 226 252 252 172  7 0 0 0 0 0\n",
      "0 0 0 0 0   0   0   0   0   0   0   0   0   0   0   0   0  85 243 252 252 144  0 0 0 0 0 0\n",
      "0 0 0 0 0   0   0   0   0   0   0   0   0   0   0   0  88 189 252 252 252  14  0 0 0 0 0 0\n",
      "0 0 0 0 0   0   0   0   0   0   0   0   0   0  91 212 247 252 252 252 204   9  0 0 0 0 0 0\n",
      "0 0 0 0 0   0   0   0   0  32 125 193 193 193 253 252 252 252 238 102  28   0  0 0 0 0 0 0\n",
      "0 0 0 0 0   0   0   0  45 222 252 252 252 252 253 252 252 252 177   0   0   0  0 0 0 0 0 0\n",
      "0 0 0 0 0   0   0   0  45 223 253 253 253 253 255 253 253 253 253  74   0   0  0 0 0 0 0 0\n",
      "0 0 0 0 0   0   0   0   0  31 123  52  44  44  44  44 143 252 252  74   0   0  0 0 0 0 0 0\n",
      "0 0 0 0 0   0   0   0   0   0   0   0   0   0   0   0  15 252 252  74   0   0  0 0 0 0 0 0\n",
      "0 0 0 0 0   0   0   0   0   0   0   0   0   0   0   0  86 252 252  74   0   0  0 0 0 0 0 0\n",
      "0 0 0 0 0   0   5  75   9   0   0   0   0   0   0  98 242 252 252  74   0   0  0 0 0 0 0 0\n",
      "0 0 0 0 0  61 183 252  29   0   0   0   0  18  92 239 252 252 243  65   0   0  0 0 0 0 0 0\n",
      "0 0 0 0 0 208 252 252 147 134 134 134 134 203 253 252 252 188  83   0   0   0  0 0 0 0 0 0\n",
      "0 0 0 0 0 208 252 252 252 252 252 252 252 252 253 230 153   8   0   0   0   0  0 0 0 0 0 0\n",
      "0 0 0 0 0  49 157 252 252 252 252 252 217 207 146  45   0   0   0   0   0   0  0 0 0 0 0 0\n",
      "0 0 0 0 0   0   7 103 235 252 172 103  24   0   0   0   0   0   0   0   0   0  0 0 0 0 0 0\n",
      "0 0 0 0 0   0   0   0   0   0   0   0   0   0   0   0   0   0   0   0   0   0  0 0 0 0 0 0\n",
      "0 0 0 0 0   0   0   0   0   0   0   0   0   0   0   0   0   0   0   0   0   0  0 0 0 0 0 0\n",
      "0 0 0 0 0   0   0   0   0   0   0   0   0   0   0   0   0   0   0   0   0   0  0 0 0 0 0 0\n"
     ]
    }
   ],
   "source": [
    "Representations.rep_matrix(train_list, num)"
   ]
  },
  {
   "cell_type": "code",
   "execution_count": 183,
   "metadata": {},
   "outputs": [
    {
     "name": "stdout",
     "output_type": "stream",
     "text": [
      "10000\n"
     ]
    }
   ],
   "source": [
    "test_file = open(test_csv, 'r')\n",
    "test_list = test_file.readlines()\n",
    "test_file.close()\n",
    "print(len(test_list))"
   ]
  },
  {
   "cell_type": "code",
   "execution_count": 111,
   "metadata": {},
   "outputs": [],
   "source": [
    "class CNN:\n",
    "    def __init__(self, sizes, epochs, lr):\n",
    "        self.sizes = sizes  # Tamaños de las capas\n",
    "        self.epochs = epochs  # Número de épocas\n",
    "        self.lr = lr  # Tasa de aprendizaje\n",
    "\n",
    "        input_layer = sizes[0]\n",
    "        hidden_1 = sizes[1]\n",
    "        hidden_2 = sizes[2]\n",
    "        output_layer = sizes[3]\n",
    "\n",
    "        self.params = {\n",
    "            'W1': np.random.randn(hidden_1, input_layer) * np.sqrt(1. / hidden_1),\n",
    "            'W2': np.random.randn(hidden_2, hidden_1) * np.sqrt(1. / hidden_2),\n",
    "            'W3': np.random.randn(output_layer, hidden_2) * np.sqrt(1. / output_layer)\n",
    "        }\n",
    "\n",
    "    def sigmoid(self, x, derivative=False):\n",
    "        sig = 1 / (1 + np.exp(-x))\n",
    "        if derivative:\n",
    "            return sig * (1 - sig)\n",
    "        return sig\n",
    "    \n",
    "    def softmax(self, x, derivative=False):\n",
    "        exps = np.exp(x - np.max(x))  # Evitar overflow\n",
    "        softmax_vals = exps / np.sum(exps, axis=0)\n",
    "        if derivative:\n",
    "            return softmax_vals * (1 - softmax_vals)\n",
    "        return softmax_vals\n",
    "\n",
    "    def forward_pass(self, x_train):\n",
    "        params = self.params\n",
    "        params['A0'] = x_train\n",
    "\n",
    "        params['Z1'] = np.dot(params['W1'], params['A0'])\n",
    "        params['A1'] = self.sigmoid(params['Z1'])\n",
    "\n",
    "        params['Z2'] = np.dot(params['W2'], params['A1'])\n",
    "        params['A2'] = self.sigmoid(params['Z2'])\n",
    "\n",
    "        params['Z3'] = np.dot(params['W3'], params['A2'])\n",
    "        params['A3'] = self.softmax(params['Z3'])\n",
    "\n",
    "        return params['A3']\n",
    "    \n",
    "    def backward_pass(self, y_train, output):\n",
    "        params = self.params\n",
    "        change_w = {}\n",
    "\n",
    "        error = 2 * (output - y_train) / output.shape[0] * self.softmax(params['Z3'], derivative=True)\n",
    "        change_w['W3'] = np.outer(error, params['A2'])\n",
    "\n",
    "        error = np.dot(params['W3'].T, error) * self.sigmoid(params['Z2'], derivative=True)\n",
    "        change_w['W2'] = np.outer(error, params['A1'])\n",
    "\n",
    "        error = np.dot(params['W2'].T, error) * self.sigmoid(params['Z1'], derivative=True)\n",
    "        change_w['W1'] = np.outer(error, params['A0'])\n",
    "\n",
    "        return change_w\n",
    "    \n",
    "    def update_weights(self, change_w):\n",
    "        for key, val in change_w.items():\n",
    "            if self.params[key].shape == val.shape:\n",
    "                self.params[key] -= self.lr * val\n",
    "\n",
    "    def compute_accuracy(self, test_list):\n",
    "        predictions = []\n",
    "        for x in test_list:\n",
    "            values = x.split(',')\n",
    "            inputs = (np.asarray(values[1:], dtype=np.float32) / 255.0 * 0.99) + 0.01\n",
    "            targets = np.zeros(10) + 0.01\n",
    "            targets[int(values[0])] = 0.99\n",
    "            output = self.forward_pass(inputs)\n",
    "            pred = np.argmax(output)\n",
    "            predictions.append(pred == np.argmax(targets))\n",
    "\n",
    "        return np.mean(predictions)\n",
    "\n",
    "    def train(self, train_list, test_list):\n",
    "        start_time = time.time()\n",
    "\n",
    "        for iter in range(self.epochs):\n",
    "            for x in train_list:\n",
    "                values = x.split(',')\n",
    "                inputs = (np.asarray(values[1:], dtype=np.float32) / 255.0 * 0.99) + 0.01\n",
    "                targets = np.zeros(10) + 0.01\n",
    "                targets[int(values[0])] = 0.99\n",
    "                output = self.forward_pass(inputs)\n",
    "                change_w = self.backward_pass(targets, output)\n",
    "                self.update_weights(change_w)\n",
    "\n",
    "            accuracy = self.compute_accuracy(test_list)\n",
    "            print(f'Epoch: {iter+1}, Time Spent: {time.time()-start_time:.02f}s, Accuracy: {accuracy*100:.2f}%')\n"
   ]
  },
  {
   "cell_type": "code",
   "execution_count": 116,
   "metadata": {},
   "outputs": [
    {
     "name": "stdout",
     "output_type": "stream",
     "text": [
      "Epoch: 1, Time Spent: 10.97s, Accuracy: 69.36%\n",
      "Epoch: 2, Time Spent: 21.81s, Accuracy: 79.58%\n",
      "Epoch: 3, Time Spent: 32.65s, Accuracy: 85.67%\n",
      "Epoch: 4, Time Spent: 43.73s, Accuracy: 87.87%\n",
      "Epoch: 5, Time Spent: 54.70s, Accuracy: 89.37%\n",
      "Epoch: 6, Time Spent: 65.51s, Accuracy: 90.31%\n",
      "Epoch: 7, Time Spent: 76.36s, Accuracy: 91.16%\n",
      "Epoch: 8, Time Spent: 87.10s, Accuracy: 91.67%\n",
      "Epoch: 9, Time Spent: 97.96s, Accuracy: 92.02%\n",
      "Epoch: 10, Time Spent: 108.86s, Accuracy: 92.41%\n"
     ]
    }
   ],
   "source": [
    "dnn = CNN(sizes = [784, 128, 64, 10], epochs = 10, lr = 0.03)\n",
    "dnn.train(train_list, test_list)"
   ]
  },
  {
   "cell_type": "markdown",
   "metadata": {},
   "source": [
    "We have achived an accuraccy of 92.41% which is quite fine but, we could improve this by inserting a decaying learning rate. At the star, this will make big changes on the weights and each epoch will have a decrese on the learning rate."
   ]
  },
  {
   "cell_type": "code",
   "execution_count": 219,
   "metadata": {},
   "outputs": [],
   "source": [
    "class CNN_decay:\n",
    "    def __init__(self, sizes, epochs, lr, decay=0.0):\n",
    "        self.sizes = sizes \n",
    "        self.epochs = epochs  \n",
    "        self.lr = lr \n",
    "        self.decay = decay \n",
    "\n",
    "        input_layer = sizes[0]\n",
    "        hidden_1 = sizes[1]\n",
    "        hidden_2 = sizes[2]\n",
    "        output_layer = sizes[3]\n",
    "\n",
    "        self.params = {\n",
    "            'W1': np.random.randn(hidden_1, input_layer) * np.sqrt(1. / hidden_1),\n",
    "            'W2': np.random.randn(hidden_2, hidden_1) * np.sqrt(1. / hidden_2),\n",
    "            'W3': np.random.randn(output_layer, hidden_2) * np.sqrt(1. / output_layer)\n",
    "        }\n",
    "\n",
    "    def sigmoid(self, x, derivative=False):\n",
    "        sig = 1 / (1 + np.exp(-x))\n",
    "        if derivative:\n",
    "            return sig * (1 - sig)\n",
    "        return sig\n",
    "    \n",
    "    def softmax(self, x, derivative=False):\n",
    "        exps = np.exp(x - np.max(x))  \n",
    "        softmax_vals = exps / np.sum(exps, axis=0)\n",
    "        if derivative:\n",
    "            return softmax_vals * (1 - softmax_vals)\n",
    "        return softmax_vals\n",
    "\n",
    "    def forward_pass(self, x_train):\n",
    "        params = self.params\n",
    "        params['A0'] = x_train\n",
    "\n",
    "        params['Z1'] = np.dot(params['W1'], params['A0'])\n",
    "        params['A1'] = self.sigmoid(params['Z1'])\n",
    "\n",
    "        params['Z2'] = np.dot(params['W2'], params['A1'])\n",
    "        params['A2'] = self.sigmoid(params['Z2'])\n",
    "\n",
    "        params['Z3'] = np.dot(params['W3'], params['A2'])\n",
    "        params['A3'] = self.softmax(params['Z3'])\n",
    "\n",
    "        return params['A3']\n",
    "    \n",
    "    def backward_pass(self, y_train, output):\n",
    "        params = self.params\n",
    "        change_w = {}\n",
    "\n",
    "        error = 2 * (output - y_train) / output.shape[0] * self.softmax(params['Z3'], derivative=True)\n",
    "        change_w['W3'] = np.outer(error, params['A2'])\n",
    "\n",
    "        error = np.dot(params['W3'].T, error) * self.sigmoid(params['Z2'], derivative=True)\n",
    "        change_w['W2'] = np.outer(error, params['A1'])\n",
    "\n",
    "        error = np.dot(params['W2'].T, error) * self.sigmoid(params['Z1'], derivative=True)\n",
    "        change_w['W1'] = np.outer(error, params['A0'])\n",
    "\n",
    "        return change_w\n",
    "    \n",
    "    def update_weights(self, change_w):\n",
    "        for key, val in change_w.items():\n",
    "            if self.params[key].shape == val.shape:\n",
    "                self.params[key] -= self.lr * val\n",
    "\n",
    "    def compute_accuracy(self, list=train_list):\n",
    "        predictions = []\n",
    "        for x in list:\n",
    "            values = x.split(',')\n",
    "            inputs = (np.asarray(values[1:], dtype=np.float32) / 255.0 * 0.99) + 0.01\n",
    "            targets = np.zeros(10) + 0.01\n",
    "            targets[int(values[0])] = 0.99\n",
    "            output = self.forward_pass(inputs)\n",
    "            pred = np.argmax(output)\n",
    "            predictions.append(pred == np.argmax(targets))\n",
    "\n",
    "        return np.mean(predictions)\n",
    "\n",
    "    def train(self, train_list, test_list):\n",
    "        start_time = time.time()\n",
    "\n",
    "        for iter in range(self.epochs):\n",
    "            for x in train_list:\n",
    "                values = x.split(',')\n",
    "                inputs = (np.asarray(values[1:], dtype=np.float32) / 255.0 * 0.99) + 0.01\n",
    "                targets = np.zeros(10) + 0.01\n",
    "                targets[int(values[0])] = 0.99\n",
    "                output = self.forward_pass(inputs)\n",
    "                change_w = self.backward_pass(targets, output)\n",
    "                self.update_weights(change_w)\n",
    "            \n",
    "            self.lr *= (1. / (1. + self.decay * iter))\n",
    "            \n",
    "            accuracy = self.compute_accuracy(test_list)\n",
    "            print(f'Epoch: {iter+1}, Time Spent: {time.time()-start_time:.02f}s, Accuracy: {accuracy*100:.2f}%, Learning Rate: {self.lr:.6f}')\n"
   ]
  },
  {
   "cell_type": "code",
   "execution_count": 133,
   "metadata": {},
   "outputs": [
    {
     "name": "stdout",
     "output_type": "stream",
     "text": [
      "Epoch: 1, Time Spent: 11.12s, Accuracy: 93.88%, Learning Rate: 0.900000\n",
      "Epoch: 2, Time Spent: 22.25s, Accuracy: 95.07%, Learning Rate: 0.849057\n",
      "Epoch: 3, Time Spent: 33.43s, Accuracy: 96.32%, Learning Rate: 0.758086\n",
      "Epoch: 4, Time Spent: 44.59s, Accuracy: 96.93%, Learning Rate: 0.642446\n",
      "Epoch: 5, Time Spent: 55.67s, Accuracy: 97.06%, Learning Rate: 0.518102\n",
      "Epoch: 6, Time Spent: 66.74s, Accuracy: 97.45%, Learning Rate: 0.398540\n",
      "Epoch: 7, Time Spent: 78.03s, Accuracy: 97.47%, Learning Rate: 0.293044\n",
      "Epoch: 8, Time Spent: 89.44s, Accuracy: 97.54%, Learning Rate: 0.206369\n",
      "Epoch: 9, Time Spent: 100.60s, Accuracy: 97.49%, Learning Rate: 0.139438\n",
      "Epoch: 10, Time Spent: 111.66s, Accuracy: 97.47%, Learning Rate: 0.090544\n"
     ]
    }
   ],
   "source": [
    "dnn2 = CNN_decay(sizes = [784, 128, 64, 10], epochs = 10, lr = 0.9, decay = 0.06)\n",
    "dnn2.train(train_list, test_list)"
   ]
  },
  {
   "cell_type": "code",
   "execution_count": 143,
   "metadata": {},
   "outputs": [
    {
     "name": "stdout",
     "output_type": "stream",
     "text": [
      "Epoch: 1, Time Spent: 10.89s, Accuracy: 95.17%, Learning Rate: 2.000000\n",
      "Epoch: 2, Time Spent: 21.86s, Accuracy: 96.01%, Learning Rate: 1.818182\n",
      "Epoch: 3, Time Spent: 32.67s, Accuracy: 96.58%, Learning Rate: 1.515152\n",
      "Epoch: 4, Time Spent: 43.39s, Accuracy: 96.98%, Learning Rate: 1.165501\n",
      "Epoch: 5, Time Spent: 54.15s, Accuracy: 97.37%, Learning Rate: 0.832501\n",
      "Epoch: 6, Time Spent: 64.95s, Accuracy: 97.69%, Learning Rate: 0.555001\n",
      "Epoch: 7, Time Spent: 75.75s, Accuracy: 97.71%, Learning Rate: 0.346875\n",
      "Epoch: 8, Time Spent: 86.55s, Accuracy: 97.85%, Learning Rate: 0.204044\n",
      "Epoch: 9, Time Spent: 97.35s, Accuracy: 97.81%, Learning Rate: 0.113358\n",
      "Epoch: 10, Time Spent: 108.14s, Accuracy: 97.82%, Learning Rate: 0.059662\n"
     ]
    }
   ],
   "source": [
    "dnn3 = CNN_decay(sizes = [784, 128, 64, 10], epochs = 10, lr = 2, decay = 0.1)\n",
    "dnn3.train(train_list, test_list)"
   ]
  },
  {
   "cell_type": "code",
   "execution_count": 187,
   "metadata": {},
   "outputs": [],
   "source": [
    "def forwarding_output(input_data=None, num=None, neural = dnn3):\n",
    "    if num is not None:\n",
    "        values = train_list[num].split(',')  \n",
    "        inputs = (np.asarray(values[1:], dtype=np.float32) / 255.0 * 0.99) + 0.01  # Normalizar\n",
    "    elif input_data is not None:\n",
    "        inputs = (np.asarray(input_data, dtype=np.float32) / 255.0 * 0.99) + 0.01  # Normalizar\n",
    "    else:\n",
    "        print(\"Error\")\n",
    "        return\n",
    "\n",
    "    result = neural.forward_pass(inputs)\n",
    "    np.set_printoptions(suppress=True, precision=4)\n",
    "    print(\"Out:\\n\", result)\n",
    "    predicted_label = np.argmax(result)\n",
    "    print(f\"Predicted: {predicted_label}\")\n"
   ]
  },
  {
   "cell_type": "code",
   "execution_count": 218,
   "metadata": {},
   "outputs": [
    {
     "name": "stdout",
     "output_type": "stream",
     "text": [
      "Out:\n",
      " [0.     0.     0.     0.     0.     0.     0.     0.9986 0.     0.0013]\n",
      "Predicted: 7\n"
     ]
    },
    {
     "data": {
      "image/png": "[encoded data removed]",
      "text/plain": [
       "<Figure size 640x480 with 1 Axes>"
      ]
     },
     "metadata": {},
     "output_type": "display_data"
    }
   ],
   "source": [
    "num = 9999\n",
    "\n",
    "forwarding_output(None, num)\n",
    "Representations.rep_imag(test_list, num)"
   ]
  },
  {
   "cell_type": "code",
   "execution_count": 222,
   "metadata": {},
   "outputs": [
    {
     "name": "stdout",
     "output_type": "stream",
     "text": [
      "0.9951666666666666\n",
      "0.9782\n"
     ]
    }
   ],
   "source": [
    "print(dnn3.compute_accuracy(train_list))\n",
    "print(dnn3.compute_accuracy(test_list))"
   ]
  }
 ],
 "metadata": {
  "kernelspec": {
   "display_name": "Python 3",
   "language": "python",
   "name": "python3"
  },
  "language_info": {
   "codemirror_mode": {
    "name": "ipython",
    "version": 3
   },
   "file_extension": ".py",
   "mimetype": "text/x-python",
   "name": "python",
   "nbconvert_exporter": "python",
   "pygments_lexer": "ipython3",
   "version": "3.9.6"
  }
 },
 "nbformat": 4,
 "nbformat_minor": 2
}
