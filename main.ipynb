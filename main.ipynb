{
 "cells": [
  {
   "cell_type": "markdown",
   "metadata": {},
   "source": [
    "# LIVE MNIST \n",
    "\n",
    "The LIVE MNIST project aims to create an interactive and dynamic visualization of the training, validation, and testing process for the well-known MNIST dataset. Users will be able to configure the number of layers and nodes in a Convolutional Neural Network (CNN) and observe a live representation of the model’s structure and learning progress directly on a web interface. Additionally, the project will feature an interactive drawing tool where users can sketch digits in real-time and instantly see the model’s predicted probabilities for each number, making the experience both educational and engaging."
   ]
  },
  {
   "cell_type": "markdown",
   "metadata": {},
   "source": [
    "1) MODEL rep"
   ]
  },
  {
   "cell_type": "code",
   "execution_count": 4,
   "metadata": {},
   "outputs": [
    {
     "name": "stdout",
     "output_type": "stream",
     "text": [
      "Collecting matplotlib\n",
      "  Using cached matplotlib-3.10.0-cp313-cp313-macosx_11_0_arm64.whl.metadata (11 kB)\n",
      "Collecting contourpy>=1.0.1 (from matplotlib)\n",
      "  Using cached contourpy-1.3.1-cp313-cp313-macosx_11_0_arm64.whl.metadata (5.4 kB)\n",
      "Collecting cycler>=0.10 (from matplotlib)\n",
      "  Using cached cycler-0.12.1-py3-none-any.whl.metadata (3.8 kB)\n",
      "Collecting fonttools>=4.22.0 (from matplotlib)\n",
      "  Using cached fonttools-4.56.0-cp313-cp313-macosx_10_13_universal2.whl.metadata (101 kB)\n",
      "Collecting kiwisolver>=1.3.1 (from matplotlib)\n",
      "  Using cached kiwisolver-1.4.8-cp313-cp313-macosx_11_0_arm64.whl.metadata (6.2 kB)\n",
      "Requirement already satisfied: numpy>=1.23 in ./.venv/lib/python3.13/site-packages (from matplotlib) (2.2.2)\n",
      "Requirement already satisfied: packaging>=20.0 in ./.venv/lib/python3.13/site-packages (from matplotlib) (24.2)\n",
      "Collecting pillow>=8 (from matplotlib)\n",
      "  Using cached pillow-11.1.0-cp313-cp313-macosx_11_0_arm64.whl.metadata (9.1 kB)\n",
      "Collecting pyparsing>=2.3.1 (from matplotlib)\n",
      "  Using cached pyparsing-3.2.1-py3-none-any.whl.metadata (5.0 kB)\n",
      "Requirement already satisfied: python-dateutil>=2.7 in ./.venv/lib/python3.13/site-packages (from matplotlib) (2.9.0.post0)\n",
      "Requirement already satisfied: six>=1.5 in ./.venv/lib/python3.13/site-packages (from python-dateutil>=2.7->matplotlib) (1.17.0)\n",
      "Using cached matplotlib-3.10.0-cp313-cp313-macosx_11_0_arm64.whl (8.0 MB)\n",
      "Using cached contourpy-1.3.1-cp313-cp313-macosx_11_0_arm64.whl (255 kB)\n",
      "Using cached cycler-0.12.1-py3-none-any.whl (8.3 kB)\n",
      "Using cached fonttools-4.56.0-cp313-cp313-macosx_10_13_universal2.whl (2.7 MB)\n",
      "Using cached kiwisolver-1.4.8-cp313-cp313-macosx_11_0_arm64.whl (65 kB)\n",
      "Using cached pillow-11.1.0-cp313-cp313-macosx_11_0_arm64.whl (3.1 MB)\n",
      "Using cached pyparsing-3.2.1-py3-none-any.whl (107 kB)\n",
      "Installing collected packages: pyparsing, pillow, kiwisolver, fonttools, cycler, contourpy, matplotlib\n",
      "Successfully installed contourpy-1.3.1 cycler-0.12.1 fonttools-4.56.0 kiwisolver-1.4.8 matplotlib-3.10.0 pillow-11.1.0 pyparsing-3.2.1\n",
      "Note: you may need to restart the kernel to use updated packages.\n"
     ]
    }
   ],
   "source": [
    "pip install matplotlib"
   ]
  },
  {
   "cell_type": "code",
   "execution_count": 3,
   "metadata": {},
   "outputs": [
    {
     "name": "stdout",
     "output_type": "stream",
     "text": [
      "Collecting pandas\n",
      "  Using cached pandas-2.2.3-cp313-cp313-macosx_11_0_arm64.whl.metadata (89 kB)\n",
      "Collecting numpy>=1.26.0 (from pandas)\n",
      "  Using cached numpy-2.2.2-cp313-cp313-macosx_14_0_arm64.whl.metadata (62 kB)\n",
      "Requirement already satisfied: python-dateutil>=2.8.2 in ./.venv/lib/python3.13/site-packages (from pandas) (2.9.0.post0)\n",
      "Collecting pytz>=2020.1 (from pandas)\n",
      "  Using cached pytz-2025.1-py2.py3-none-any.whl.metadata (22 kB)\n",
      "Collecting tzdata>=2022.7 (from pandas)\n",
      "  Using cached tzdata-2025.1-py2.py3-none-any.whl.metadata (1.4 kB)\n",
      "Requirement already satisfied: six>=1.5 in ./.venv/lib/python3.13/site-packages (from python-dateutil>=2.8.2->pandas) (1.17.0)\n",
      "Using cached pandas-2.2.3-cp313-cp313-macosx_11_0_arm64.whl (11.3 MB)\n",
      "Using cached numpy-2.2.2-cp313-cp313-macosx_14_0_arm64.whl (5.1 MB)\n",
      "Using cached pytz-2025.1-py2.py3-none-any.whl (507 kB)\n",
      "Using cached tzdata-2025.1-py2.py3-none-any.whl (346 kB)\n",
      "Installing collected packages: pytz, tzdata, numpy, pandas\n",
      "Successfully installed numpy-2.2.2 pandas-2.2.3 pytz-2025.1 tzdata-2025.1\n",
      "Note: you may need to restart the kernel to use updated packages.\n"
     ]
    }
   ],
   "source": [
    "pip install pandas"
   ]
  },
  {
   "cell_type": "code",
   "execution_count": 5,
   "metadata": {},
   "outputs": [
    {
     "name": "stdout",
     "output_type": "stream",
     "text": [
      "Requirement already satisfied: numpy in ./.venv/lib/python3.13/site-packages (2.2.2)\n",
      "Note: you may need to restart the kernel to use updated packages.\n"
     ]
    }
   ],
   "source": [
    "pip install numpy"
   ]
  },
  {
   "cell_type": "markdown",
   "metadata": {},
   "source": [
    "Basic libraries"
   ]
  },
  {
   "cell_type": "code",
   "execution_count": 6,
   "metadata": {},
   "outputs": [],
   "source": [
    "import numpy as np\n",
    "import matplotlib.pyplot as plt\n",
    "import time\n",
    "import pandas as pd"
   ]
  },
  {
   "cell_type": "markdown",
   "metadata": {},
   "source": [
    "This are the directions of our training and testing data"
   ]
  },
  {
   "cell_type": "code",
   "execution_count": 7,
   "metadata": {},
   "outputs": [],
   "source": [
    "train_x = \"dataset/train-images.idx3-ubyte\"\n",
    "train_y = \"dataset/train-labels.idx1-ubyte\"\n",
    "test_x = \"dataset/t10k-images.idx3-ubyte\"\n",
    "test_y = \"dataset/t10k-labels.idx1-ubyte\"\n",
    "\n",
    "train_csv = \"./csv_files/train.csv\"\n",
    "test_csv = \"./csv_files/test.csv\""
   ]
  },
  {
   "cell_type": "markdown",
   "metadata": {},
   "source": [
    "We will convert the ubyte into csv. "
   ]
  },
  {
   "cell_type": "code",
   "execution_count": 8,
   "metadata": {},
   "outputs": [],
   "source": [
    "def convert (imgs, labels, outline, n):\n",
    "    imgf = open(imgs, 'rb') #this function opens the ubyte file.\n",
    "    labelf = open(labels, 'rb')\n",
    "    csvf = open(outline, 'w')\n",
    "\n",
    "    imgf.read(16) #Jumping few bytes due to metadata\n",
    "    labelf.read(8)\n",
    "    images = []\n",
    "\n",
    "    for i in range(n):\n",
    "        image = [ord(labelf.read(1))] #The reason is 1 is because you want to read just 1 byte. When readed, it automatically jumps to next byte.\n",
    "        for j in range(28*28):\n",
    "            image.append(ord(imgf.read(1))) #When appending single num, we added to the list we are in.\n",
    "        images.append(image)  #Finally adding the existing list to another one.\n",
    "    \n",
    "    for image in images:\n",
    "        csvf.write(\",\".join(str(plx) for plx in image)+ \"\\n\") #The conversion into csv file.\n",
    "\n",
    "    imgf.close()\n",
    "    labelf.close()\n",
    "    csvf.close()"
   ]
  },
  {
   "cell_type": "code",
   "execution_count": 9,
   "metadata": {},
   "outputs": [],
   "source": [
    "convert(train_x, train_y, train_csv, 60000) #generating the files\n",
    "convert(test_x, test_y, test_csv, 10000)"
   ]
  },
  {
   "cell_type": "code",
   "execution_count": 10,
   "metadata": {},
   "outputs": [
    {
     "name": "stdout",
     "output_type": "stream",
     "text": [
      "60000\n"
     ]
    }
   ],
   "source": [
    "train_file = open(train_csv, 'r')  \n",
    "train_list = train_file.readlines()\n",
    "train_file.close()\n",
    "print(len(train_list))\n",
    "num = 7"
   ]
  },
  {
   "cell_type": "code",
   "execution_count": 11,
   "metadata": {},
   "outputs": [
    {
     "data": {
      "text/plain": [
       "'3,0,0,0,0,0,0,0,0,0,0,0,0,0,0,0,0,0,0,0,0,0,0,0,0,0,0,0,0,0,0,0,0,0,0,0,0,0,0,0,0,0,0,0,0,0,0,0,0,0,0,0,0,0,0,0,0,0,0,0,0,0,0,0,0,0,0,0,0,0,0,0,0,0,0,0,0,0,0,0,0,0,0,0,0,0,0,0,0,0,0,0,0,0,0,0,0,0,0,0,0,0,0,0,0,0,0,0,0,0,0,0,0,0,0,0,0,0,0,0,0,0,0,0,0,0,0,0,0,0,0,0,0,0,0,0,0,0,0,0,0,0,0,0,0,0,0,0,0,0,0,0,38,43,105,255,253,253,253,253,253,174,6,0,0,0,0,0,0,0,0,0,0,0,0,0,0,0,43,139,224,226,252,253,252,252,252,252,252,252,158,14,0,0,0,0,0,0,0,0,0,0,0,0,0,0,178,252,252,252,252,253,252,252,252,252,252,252,252,59,0,0,0,0,0,0,0,0,0,0,0,0,0,0,109,252,252,230,132,133,132,132,189,252,252,252,252,59,0,0,0,0,0,0,0,0,0,0,0,0,0,0,4,29,29,24,0,0,0,0,14,226,252,252,172,7,0,0,0,0,0,0,0,0,0,0,0,0,0,0,0,0,0,0,0,0,0,0,85,243,252,252,144,0,0,0,0,0,0,0,0,0,0,0,0,0,0,0,0,0,0,0,0,0,0,88,189,252,252,252,14,0,0,0,0,0,0,0,0,0,0,0,0,0,0,0,0,0,0,0,0,91,212,247,252,252,252,204,9,0,0,0,0,0,0,0,0,0,0,0,0,0,0,0,32,125,193,193,193,253,252,252,252,238,102,28,0,0,0,0,0,0,0,0,0,0,0,0,0,0,0,45,222,252,252,252,252,253,252,252,252,177,0,0,0,0,0,0,0,0,0,0,0,0,0,0,0,0,0,45,223,253,253,253,253,255,253,253,253,253,74,0,0,0,0,0,0,0,0,0,0,0,0,0,0,0,0,0,31,123,52,44,44,44,44,143,252,252,74,0,0,0,0,0,0,0,0,0,0,0,0,0,0,0,0,0,0,0,0,0,0,0,0,15,252,252,74,0,0,0,0,0,0,0,0,0,0,0,0,0,0,0,0,0,0,0,0,0,0,0,0,86,252,252,74,0,0,0,0,0,0,0,0,0,0,0,0,0,0,5,75,9,0,0,0,0,0,0,98,242,252,252,74,0,0,0,0,0,0,0,0,0,0,0,0,0,61,183,252,29,0,0,0,0,18,92,239,252,252,243,65,0,0,0,0,0,0,0,0,0,0,0,0,0,208,252,252,147,134,134,134,134,203,253,252,252,188,83,0,0,0,0,0,0,0,0,0,0,0,0,0,0,208,252,252,252,252,252,252,252,252,253,230,153,8,0,0,0,0,0,0,0,0,0,0,0,0,0,0,0,49,157,252,252,252,252,252,217,207,146,45,0,0,0,0,0,0,0,0,0,0,0,0,0,0,0,0,0,0,7,103,235,252,172,103,24,0,0,0,0,0,0,0,0,0,0,0,0,0,0,0,0,0,0,0,0,0,0,0,0,0,0,0,0,0,0,0,0,0,0,0,0,0,0,0,0,0,0,0,0,0,0,0,0,0,0,0,0,0,0,0,0,0,0,0,0,0,0,0,0,0,0,0,0,0,0,0,0,0,0,0,0,0,0,0,0,0,0,0,0,0,0,0,0,0,0,0,0,0,0,0,0,0,0,0\\n'"
      ]
     },
     "execution_count": 11,
     "metadata": {},
     "output_type": "execute_result"
    }
   ],
   "source": [
    "train_list[num]"
   ]
  },
  {
   "cell_type": "code",
   "execution_count": 12,
   "metadata": {},
   "outputs": [],
   "source": [
    "class Representations:\n",
    "    def rep_imag(list = train_list, num=0):\n",
    "        values = list[num].split(\",\")\n",
    "        images_array = np.asarray(values[1:], dtype=float).reshape((28,28))\n",
    "        plt.imshow(images_array, cmap = \"Grays\", interpolation = \"None\")\n",
    "        plt.grid(True, \"major\")\n",
    "\n",
    "    def rep_matrix (list = train_list, num=0):\n",
    "        values = list[num].split(\",\")\n",
    "        images_array = np.asarray(values[1:], dtype=float).reshape((28,28))\n",
    "        image_matrix = images_array.astype(int)\n",
    "        print(pd.DataFrame(image_matrix).to_string(index=False, header=False))\n"
   ]
  },
  {
   "cell_type": "code",
   "execution_count": 13,
   "metadata": {},
   "outputs": [
    {
     "data": {
      "image/png": "[encoded data removed]",
      "text/plain": [
       "<Figure size 640x480 with 1 Axes>"
      ]
     },
     "metadata": {},
     "output_type": "display_data"
    }
   ],
   "source": [
    "Representations.rep_imag(train_list, num)"
   ]
  },
  {
   "cell_type": "code",
   "execution_count": 14,
   "metadata": {},
   "outputs": [
    {
     "name": "stdout",
     "output_type": "stream",
     "text": [
      "0 0 0 0 0   0   0   0   0   0   0   0   0   0   0   0   0   0   0   0   0   0  0 0 0 0 0 0\n",
      "0 0 0 0 0   0   0   0   0   0   0   0   0   0   0   0   0   0   0   0   0   0  0 0 0 0 0 0\n",
      "0 0 0 0 0   0   0   0   0   0   0   0   0   0   0   0   0   0   0   0   0   0  0 0 0 0 0 0\n",
      "0 0 0 0 0   0   0   0   0   0   0   0   0   0   0   0   0   0   0   0   0   0  0 0 0 0 0 0\n",
      "0 0 0 0 0   0   0   0   0   0   0   0   0   0   0   0   0   0   0   0   0   0  0 0 0 0 0 0\n",
      "0 0 0 0 0   0   0   0   0   0   0  38  43 105 255 253 253 253 253 253 174   6  0 0 0 0 0 0\n",
      "0 0 0 0 0   0   0   0   0  43 139 224 226 252 253 252 252 252 252 252 252 158 14 0 0 0 0 0\n",
      "0 0 0 0 0   0   0   0   0 178 252 252 252 252 253 252 252 252 252 252 252 252 59 0 0 0 0 0\n",
      "0 0 0 0 0   0   0   0   0 109 252 252 230 132 133 132 132 189 252 252 252 252 59 0 0 0 0 0\n",
      "0 0 0 0 0   0   0   0   0   4  29  29  24   0   0   0   0  14 226 252 252 172  7 0 0 0 0 0\n",
      "0 0 0 0 0   0   0   0   0   0   0   0   0   0   0   0   0  85 243 252 252 144  0 0 0 0 0 0\n",
      "0 0 0 0 0   0   0   0   0   0   0   0   0   0   0   0  88 189 252 252 252  14  0 0 0 0 0 0\n",
      "0 0 0 0 0   0   0   0   0   0   0   0   0   0  91 212 247 252 252 252 204   9  0 0 0 0 0 0\n",
      "0 0 0 0 0   0   0   0   0  32 125 193 193 193 253 252 252 252 238 102  28   0  0 0 0 0 0 0\n",
      "0 0 0 0 0   0   0   0  45 222 252 252 252 252 253 252 252 252 177   0   0   0  0 0 0 0 0 0\n",
      "0 0 0 0 0   0   0   0  45 223 253 253 253 253 255 253 253 253 253  74   0   0  0 0 0 0 0 0\n",
      "0 0 0 0 0   0   0   0   0  31 123  52  44  44  44  44 143 252 252  74   0   0  0 0 0 0 0 0\n",
      "0 0 0 0 0   0   0   0   0   0   0   0   0   0   0   0  15 252 252  74   0   0  0 0 0 0 0 0\n",
      "0 0 0 0 0   0   0   0   0   0   0   0   0   0   0   0  86 252 252  74   0   0  0 0 0 0 0 0\n",
      "0 0 0 0 0   0   5  75   9   0   0   0   0   0   0  98 242 252 252  74   0   0  0 0 0 0 0 0\n",
      "0 0 0 0 0  61 183 252  29   0   0   0   0  18  92 239 252 252 243  65   0   0  0 0 0 0 0 0\n",
      "0 0 0 0 0 208 252 252 147 134 134 134 134 203 253 252 252 188  83   0   0   0  0 0 0 0 0 0\n",
      "0 0 0 0 0 208 252 252 252 252 252 252 252 252 253 230 153   8   0   0   0   0  0 0 0 0 0 0\n",
      "0 0 0 0 0  49 157 252 252 252 252 252 217 207 146  45   0   0   0   0   0   0  0 0 0 0 0 0\n",
      "0 0 0 0 0   0   7 103 235 252 172 103  24   0   0   0   0   0   0   0   0   0  0 0 0 0 0 0\n",
      "0 0 0 0 0   0   0   0   0   0   0   0   0   0   0   0   0   0   0   0   0   0  0 0 0 0 0 0\n",
      "0 0 0 0 0   0   0   0   0   0   0   0   0   0   0   0   0   0   0   0   0   0  0 0 0 0 0 0\n",
      "0 0 0 0 0   0   0   0   0   0   0   0   0   0   0   0   0   0   0   0   0   0  0 0 0 0 0 0\n"
     ]
    }
   ],
   "source": [
    "Representations.rep_matrix(train_list, num)"
   ]
  },
  {
   "cell_type": "code",
   "execution_count": 15,
   "metadata": {},
   "outputs": [
    {
     "name": "stdout",
     "output_type": "stream",
     "text": [
      "10000\n"
     ]
    }
   ],
   "source": [
    "test_file = open(test_csv, 'r')\n",
    "test_list = test_file.readlines()\n",
    "test_file.close()\n",
    "print(len(test_list))"
   ]
  },
  {
   "cell_type": "code",
   "execution_count": 16,
   "metadata": {},
   "outputs": [],
   "source": [
    "class CNN:\n",
    "    def __init__(self, sizes, epochs, lr):\n",
    "        self.sizes = sizes  # Tamaños de las capas\n",
    "        self.epochs = epochs  # Número de épocas\n",
    "        self.lr = lr  # Tasa de aprendizaje\n",
    "\n",
    "        input_layer = sizes[0]\n",
    "        hidden_1 = sizes[1]\n",
    "        hidden_2 = sizes[2]\n",
    "        output_layer = sizes[3]\n",
    "\n",
    "        self.params = {\n",
    "            'W1': np.random.randn(hidden_1, input_layer) * np.sqrt(1. / hidden_1),\n",
    "            'W2': np.random.randn(hidden_2, hidden_1) * np.sqrt(1. / hidden_2),\n",
    "            'W3': np.random.randn(output_layer, hidden_2) * np.sqrt(1. / output_layer)\n",
    "        }\n",
    "\n",
    "    def sigmoid(self, x, derivative=False):\n",
    "        sig = 1 / (1 + np.exp(-x))\n",
    "        if derivative:\n",
    "            return sig * (1 - sig)\n",
    "        return sig\n",
    "    \n",
    "    def softmax(self, x, derivative=False):\n",
    "        exps = np.exp(x - np.max(x))  # Evitar overflow\n",
    "        softmax_vals = exps / np.sum(exps, axis=0)\n",
    "        if derivative:\n",
    "            return softmax_vals * (1 - softmax_vals)\n",
    "        return softmax_vals\n",
    "\n",
    "    def forward_pass(self, x_train):\n",
    "        params = self.params\n",
    "        params['A0'] = x_train\n",
    "\n",
    "        params['Z1'] = np.dot(params['W1'], params['A0'])\n",
    "        params['A1'] = self.sigmoid(params['Z1'])\n",
    "\n",
    "        params['Z2'] = np.dot(params['W2'], params['A1'])\n",
    "        params['A2'] = self.sigmoid(params['Z2'])\n",
    "\n",
    "        params['Z3'] = np.dot(params['W3'], params['A2'])\n",
    "        params['A3'] = self.softmax(params['Z3'])\n",
    "\n",
    "        return params['A3']\n",
    "    \n",
    "    def backward_pass(self, y_train, output):\n",
    "        params = self.params\n",
    "        change_w = {}\n",
    "\n",
    "        error = 2 * (output - y_train) / output.shape[0] * self.softmax(params['Z3'], derivative=True)\n",
    "        change_w['W3'] = np.outer(error, params['A2'])\n",
    "\n",
    "        error = np.dot(params['W3'].T, error) * self.sigmoid(params['Z2'], derivative=True)\n",
    "        change_w['W2'] = np.outer(error, params['A1'])\n",
    "\n",
    "        error = np.dot(params['W2'].T, error) * self.sigmoid(params['Z1'], derivative=True)\n",
    "        change_w['W1'] = np.outer(error, params['A0'])\n",
    "\n",
    "        return change_w\n",
    "    \n",
    "    def update_weights(self, change_w):\n",
    "        for key, val in change_w.items():\n",
    "            if self.params[key].shape == val.shape:\n",
    "                self.params[key] -= self.lr * val\n",
    "\n",
    "    def compute_accuracy(self, test_list):\n",
    "        predictions = []\n",
    "        for x in test_list:\n",
    "            values = x.split(',')\n",
    "            inputs = (np.asarray(values[1:], dtype=np.float32) / 255.0 * 0.99) + 0.01\n",
    "            targets = np.zeros(10) + 0.01\n",
    "            targets[int(values[0])] = 0.99\n",
    "            output = self.forward_pass(inputs)\n",
    "            pred = np.argmax(output)\n",
    "            predictions.append(pred == np.argmax(targets))\n",
    "\n",
    "        return np.mean(predictions)\n",
    "\n",
    "    def train(self, train_list, test_list):\n",
    "        start_time = time.time()\n",
    "\n",
    "        for iter in range(self.epochs):\n",
    "            for x in train_list:\n",
    "                values = x.split(',')\n",
    "                inputs = (np.asarray(values[1:], dtype=np.float32) / 255.0 * 0.99) + 0.01\n",
    "                targets = np.zeros(10) + 0.01\n",
    "                targets[int(values[0])] = 0.99\n",
    "                output = self.forward_pass(inputs)\n",
    "                change_w = self.backward_pass(targets, output)\n",
    "                self.update_weights(change_w)\n",
    "\n",
    "            accuracy = self.compute_accuracy(test_list)\n",
    "            print(f'Epoch: {iter+1}, Time Spent: {time.time()-start_time:.02f}s, Accuracy: {accuracy*100:.2f}%')\n"
   ]
  },
  {
   "cell_type": "code",
   "execution_count": null,
   "metadata": {},
   "outputs": [
    {
     "name": "stdout",
     "output_type": "stream",
     "text": [
      "Epoch: 1, Time Spent: 10.84s, Accuracy: 59.50%\n"
     ]
    }
   ],
   "source": [
    "dnn = CNN(sizes = [784, 128, 64, 10], epochs = 10, lr = 0.03)\n",
    "dnn.train(train_list, test_list)"
   ]
  },
  {
   "cell_type": "markdown",
   "metadata": {},
   "source": [
    "We have achived an accuraccy of 92.41% which is quite fine but, we could improve this by inserting a decaying learning rate. At the star, this will make big changes on the weights and each epoch will have a decrese on the learning rate."
   ]
  },
  {
   "cell_type": "code",
   "execution_count": 219,
   "metadata": {},
   "outputs": [],
   "source": [
    "class CNN_decay:\n",
    "    def __init__(self, sizes, epochs, lr, decay=0.0):\n",
    "        self.sizes = sizes \n",
    "        self.epochs = epochs  \n",
    "        self.lr = lr \n",
    "        self.decay = decay \n",
    "\n",
    "        input_layer = sizes[0]\n",
    "        hidden_1 = sizes[1]\n",
    "        hidden_2 = sizes[2]\n",
    "        output_layer = sizes[3]\n",
    "\n",
    "        self.params = {\n",
    "            'W1': np.random.randn(hidden_1, input_layer) * np.sqrt(1. / hidden_1),\n",
    "            'W2': np.random.randn(hidden_2, hidden_1) * np.sqrt(1. / hidden_2),\n",
    "            'W3': np.random.randn(output_layer, hidden_2) * np.sqrt(1. / output_layer)\n",
    "        }\n",
    "\n",
    "    def sigmoid(self, x, derivative=False):\n",
    "        sig = 1 / (1 + np.exp(-x))\n",
    "        if derivative:\n",
    "            return sig * (1 - sig)\n",
    "        return sig\n",
    "    \n",
    "    def softmax(self, x, derivative=False):\n",
    "        exps = np.exp(x - np.max(x))  \n",
    "        softmax_vals = exps / np.sum(exps, axis=0)\n",
    "        if derivative:\n",
    "            return softmax_vals * (1 - softmax_vals)\n",
    "        return softmax_vals\n",
    "\n",
    "    def forward_pass(self, x_train):\n",
    "        params = self.params\n",
    "        params['A0'] = x_train\n",
    "\n",
    "        params['Z1'] = np.dot(params['W1'], params['A0'])\n",
    "        params['A1'] = self.sigmoid(params['Z1'])\n",
    "\n",
    "        params['Z2'] = np.dot(params['W2'], params['A1'])\n",
    "        params['A2'] = self.sigmoid(params['Z2'])\n",
    "\n",
    "        params['Z3'] = np.dot(params['W3'], params['A2'])\n",
    "        params['A3'] = self.softmax(params['Z3'])\n",
    "\n",
    "        return params['A3']\n",
    "    \n",
    "    def backward_pass(self, y_train, output):\n",
    "        params = self.params\n",
    "        change_w = {}\n",
    "\n",
    "        error = 2 * (output - y_train) / output.shape[0] * self.softmax(params['Z3'], derivative=True)\n",
    "        change_w['W3'] = np.outer(error, params['A2'])\n",
    "\n",
    "        error = np.dot(params['W3'].T, error) * self.sigmoid(params['Z2'], derivative=True)\n",
    "        change_w['W2'] = np.outer(error, params['A1'])\n",
    "\n",
    "        error = np.dot(params['W2'].T, error) * self.sigmoid(params['Z1'], derivative=True)\n",
    "        change_w['W1'] = np.outer(error, params['A0'])\n",
    "\n",
    "        return change_w\n",
    "    \n",
    "    def update_weights(self, change_w):\n",
    "        for key, val in change_w.items():\n",
    "            if self.params[key].shape == val.shape:\n",
    "                self.params[key] -= self.lr * val\n",
    "\n",
    "    def compute_accuracy(self, list=train_list):\n",
    "        predictions = []\n",
    "        for x in list:\n",
    "            values = x.split(',')\n",
    "            inputs = (np.asarray(values[1:], dtype=np.float32) / 255.0 * 0.99) + 0.01\n",
    "            targets = np.zeros(10) + 0.01\n",
    "            targets[int(values[0])] = 0.99\n",
    "            output = self.forward_pass(inputs)\n",
    "            pred = np.argmax(output)\n",
    "            predictions.append(pred == np.argmax(targets))\n",
    "\n",
    "        return np.mean(predictions)\n",
    "\n",
    "    def train(self, train_list, test_list):\n",
    "        start_time = time.time()\n",
    "\n",
    "        for iter in range(self.epochs):\n",
    "            for x in train_list:\n",
    "                values = x.split(',')\n",
    "                inputs = (np.asarray(values[1:], dtype=np.float32) / 255.0 * 0.99) + 0.01\n",
    "                targets = np.zeros(10) + 0.01\n",
    "                targets[int(values[0])] = 0.99\n",
    "                output = self.forward_pass(inputs)\n",
    "                change_w = self.backward_pass(targets, output)\n",
    "                self.update_weights(change_w)\n",
    "            \n",
    "            self.lr *= (1. / (1. + self.decay * iter))\n",
    "            \n",
    "            accuracy = self.compute_accuracy(test_list)\n",
    "            print(f'Epoch: {iter+1}, Time Spent: {time.time()-start_time:.02f}s, Accuracy: {accuracy*100:.2f}%, Learning Rate: {self.lr:.6f}')\n"
   ]
  },
  {
   "cell_type": "code",
   "execution_count": null,
   "metadata": {},
   "outputs": [],
   "source": [
    "dnn2 = CNN_decay(sizes = [784, 128, 64, 10], epochs = 10, lr = 0.9, decay = 0.06)\n",
    "dnn2.train(train_list, test_list)"
   ]
  },
  {
   "cell_type": "code",
   "execution_count": null,
   "metadata": {},
   "outputs": [],
   "source": [
    "dnn3 = CNN_decay(sizes = [784, 128, 64, 10], epochs = 10, lr = 2, decay = 0.1)\n",
    "dnn3.train(train_list, test_list)"
   ]
  },
  {
   "cell_type": "code",
   "execution_count": 304,
   "metadata": {},
   "outputs": [],
   "source": [
    "def forwarding_output(input_data=None, num=None, list = train_list ,neural=dnn3):\n",
    "    \n",
    "    actual_num = None \n",
    "    if num is not None:\n",
    "        values = list[num].split(',')  \n",
    "        inputs = (np.asarray(values[1:], dtype=np.float32) / 255.0 * 0.99) + 0.01 \n",
    "        actual_num = int(float(values[0]))  \n",
    "    elif input_data is not None:\n",
    "        inputs = (np.asarray(input_data, dtype=np.float32) / 255.0 * 0.99) + 0.01  \n",
    "    else:\n",
    "        return None, None\n",
    "    result = neural.forward_pass(inputs)\n",
    "    np.set_printoptions(suppress=True, precision=4)\n",
    "\n",
    "    predicted_label = int(np.argmax(result)) \n",
    "    return actual_num, predicted_label \n"
   ]
  },
  {
   "cell_type": "code",
   "execution_count": null,
   "metadata": {},
   "outputs": [],
   "source": [
    "num = 9944\n",
    "lista = test_list\n",
    "print(forwarding_output(lista, num))\n",
    "Representations.rep_imag(lista, num)"
   ]
  },
  {
   "cell_type": "code",
   "execution_count": null,
   "metadata": {},
   "outputs": [],
   "source": [
    "print(dnn3.compute_accuracy(train_list))\n",
    "print(dnn3.compute_accuracy(test_list))"
   ]
  },
  {
   "cell_type": "code",
   "execution_count": null,
   "metadata": {},
   "outputs": [],
   "source": [
    "res_vs_pred = []\n",
    "lista=test_list\n",
    "j=0\n",
    "\n",
    "for i in lista:\n",
    "    actual, predicted = forwarding_output(None, j, lista)\n",
    "    if actual is not predicted:\n",
    "        print(actual - predicted)\n",
    "        res_vs_pred.append(j)\n",
    "    j+=1"
   ]
  },
  {
   "cell_type": "code",
   "execution_count": null,
   "metadata": {},
   "outputs": [],
   "source": [
    "res_vs_pred"
   ]
  }
 ],
 "metadata": {
  "kernelspec": {
   "display_name": ".venv",
   "language": "python",
   "name": "python3"
  },
  "language_info": {
   "codemirror_mode": {
    "name": "ipython",
    "version": 3
   },
   "file_extension": ".py",
   "mimetype": "text/x-python",
   "name": "python",
   "nbconvert_exporter": "python",
   "pygments_lexer": "ipython3",
   "version": "3.13.1"
  }
 },
 "nbformat": 4,
 "nbformat_minor": 2
}
